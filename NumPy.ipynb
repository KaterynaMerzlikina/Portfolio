{
 "cells": [
  {
   "cell_type": "code",
   "execution_count": 1,
   "metadata": {},
   "outputs": [
    {
     "name": "stdout",
     "output_type": "stream",
     "text": [
      "[1. 1. 1. 1. 1. 1. 1. 1. 1. 1.]\n"
     ]
    }
   ],
   "source": [
    "#вектор з 10 елементів, заповнений одиницями\n",
    "\n",
    "import numpy as np\n",
    "v_ones = np.ones(10)\n",
    "print(v_ones)"
   ]
  },
  {
   "cell_type": "code",
   "execution_count": 2,
   "metadata": {},
   "outputs": [
    {
     "name": "stdout",
     "output_type": "stream",
     "text": [
      "[ 0  1  2  3  4  5  6  7  8  9 10]\n"
     ]
    }
   ],
   "source": [
    "#вектор із значеннями від 0 до 10\n",
    "\n",
    "v_arrange = np.arange(0, 11)\n",
    "print(v_arrange)"
   ]
  },
  {
   "cell_type": "code",
   "execution_count": 3,
   "metadata": {},
   "outputs": [
    {
     "name": "stdout",
     "output_type": "stream",
     "text": [
      "[[0. 0. 0. 0. 0.]\n",
      " [0. 0. 0. 0. 0.]\n",
      " [0. 0. 0. 0. 0.]\n",
      " [0. 0. 0. 0. 0.]\n",
      " [0. 0. 0. 0. 0.]]\n"
     ]
    }
   ],
   "source": [
    "#matrix 5 на 5, заповнену нулями\n",
    "\n",
    "matrix_5 = np.zeros((5, 5))\n",
    "print(matrix_5)"
   ]
  },
  {
   "cell_type": "code",
   "execution_count": 4,
   "metadata": {},
   "outputs": [
    {
     "name": "stdout",
     "output_type": "stream",
     "text": [
      "Вектор:\n",
      "[5 8 9 5 0 0 1 7 6 9 2 4 5 2 4 2 4 7 7 9]\n",
      "\n",
      "Індекси ненульових елементів:\n",
      "(array([ 0,  1,  2,  3,  6,  7,  8,  9, 10, 11, 12, 13, 14, 15, 16, 17, 18,\n",
      "       19], dtype=int64),)\n",
      "\n",
      "Середнє значення вектора = 4.8\n",
      "\n",
      "Медіана вектора = 5.0\n",
      "\n",
      "Стандартне відхилення = 2.87\n"
     ]
    }
   ],
   "source": [
    "np.random.seed(1)\n",
    "random_20 = np.random.randint(0, 10, 20)\n",
    "print(f'Вектор:\\n{random_20}\\n')\n",
    "\n",
    "non_zero = np.nonzero(random_20)\n",
    "print(f'Індекси ненульових елементів:\\n{non_zero}\\n')\n",
    "\n",
    "average = np.mean(random_20)\n",
    "print(f'Середнє значення вектора = {average}\\n')\n",
    "\n",
    "median = np.median(random_20)\n",
    "print(f'Медіана вектора = {median}\\n')\n",
    "\n",
    "stand_div = round(np.std(random_20),2)\n",
    "print(f'Стандартне відхилення = {stand_div}')"
   ]
  },
  {
   "cell_type": "code",
   "execution_count": 5,
   "metadata": {
    "scrolled": true
   },
   "outputs": [
    {
     "name": "stdout",
     "output_type": "stream",
     "text": [
      "Matrix #1\n",
      "[[37 12 72  9 75  5 79]\n",
      " [64 16  1 76 71  6 25]\n",
      " [50 20 18 84 11 28 29]\n",
      " [14 50 68 87 87 94 96]]\n",
      "\n",
      "Matrix #2\n",
      "[[86 13  9  7 63 61 22 57]\n",
      " [ 1  0 60 81  8 88 13 47]\n",
      " [72 30 71  3 70 21 49 57]\n",
      " [ 3 68 24 43 76 26 52 80]\n",
      " [41 82 15 64 68 25 98 87]\n",
      " [ 7 26 25 22  9 67 23 27]\n",
      " [37 57 83 38  8 32 34 10]]\n",
      "\n",
      "Добуток матриць\n",
      "[[14438 14036 14188  9746 13928  9797 15117 14947]\n",
      " [ 9698 13433  6721 10641 15088 10286 13563 17126]\n",
      " [ 7588 10185  8216  8058 12186 10451  9318 13539]\n",
      " [14188 23188 21665 19377 20184 20489 22766 25051]]\n",
      "\n",
      "Матриця, перетворена у вектор\n",
      "[14438 14036 14188  9746 13928  9797 15117 14947  9698 13433  6721 10641\n",
      " 15088 10286 13563 17126  7588 10185  8216  8058 12186 10451  9318 13539\n",
      " 14188 23188 21665 19377 20184 20489 22766 25051]\n",
      "\n",
      "Максимум:\t25051 \n",
      "Мінімум:\t6721\n",
      "\n",
      "Максимум у векторі замінений на \"0\"\n",
      "[14438 14036 14188  9746 13928  9797 15117 14947  9698 13433  6721 10641\n",
      " 15088 10286 13563 17126  7588 10185  8216  8058 12186 10451  9318 13539\n",
      " 14188 23188 21665 19377 20184 20489 22766     0]\n"
     ]
    },
    {
     "data": {
      "image/png": "[encoded data removed]",
      "text/plain": [
       "<Figure size 432x288 with 1 Axes>"
      ]
     },
     "metadata": {
      "needs_background": "light"
     },
     "output_type": "display_data"
    },
    {
     "name": "stdout",
     "output_type": "stream",
     "text": [
      "Коефіцієнти кореляції\n",
      "[[1.         0.34584445]\n",
      " [0.34584445 1.        ]]\n"
     ]
    },
    {
     "data": {
      "image/png": "[encoded data removed]",
      "text/plain": [
       "<Figure size 432x288 with 1 Axes>"
      ]
     },
     "metadata": {
      "needs_background": "light"
     },
     "output_type": "display_data"
    },
    {
     "name": "stdout",
     "output_type": "stream",
     "text": [
      "Коефіцієнти кореляції\n",
      "[[1.         0.21917728]\n",
      " [0.21917728 1.        ]]\n"
     ]
    },
    {
     "data": {
      "image/png": "[encoded data removed]",
      "text/plain": [
       "<Figure size 432x288 with 1 Axes>"
      ]
     },
     "metadata": {
      "needs_background": "light"
     },
     "output_type": "display_data"
    },
    {
     "name": "stdout",
     "output_type": "stream",
     "text": [
      "Коефіцієнти кореляції\n",
      "[[ 1.         -0.25777189]\n",
      " [-0.25777189  1.        ]]\n"
     ]
    }
   ],
   "source": [
    "import matplotlib.pyplot as plt\n",
    "\n",
    "np.random.seed(1)\n",
    "matrix_1 = np.random.randint(100, size = (4, 7))\n",
    "matrix_2 = np.random.randint(100, size = (7, 8))\n",
    "print(f'Matrix #1\\n{matrix_1}\\n\\nMatrix #2\\n{matrix_2}\\n')\n",
    "\n",
    "multi = matrix_1.dot(matrix_2)\n",
    "print(f'Добуток матриць\\n{multi}\\n')\n",
    "\n",
    "vector = np.ravel(multi)\n",
    "print(f'Матриця, перетворена у вектор\\n{vector}\\n')\n",
    "\n",
    "max_v = np.max(vector)\n",
    "min_v = np.min(vector)\n",
    "print(f'Максимум:\\t{max_v} \\nМінімум:\\t{min_v}\\n')\n",
    "\n",
    "vector[vector == max_v] = 0\n",
    "print(f'Максимум у векторі замінений на \"0\"\\n{vector}')\n",
    "\n",
    "fig, ax = plt.subplots()\n",
    "ax.scatter(multi[0, :], multi[1, :])\n",
    "ax.set_title('Scatter plot for 1st and 2nd rows')\n",
    "plt.show()\n",
    "corr_1_2 = np.corrcoef(multi[0, :], multi[1, :])\n",
    "print(f'Коефіцієнти кореляції\\n{corr_1_2}')\n",
    "\n",
    "fig, ax = plt.subplots()\n",
    "ax.scatter(multi[0, :], multi[2, :])\n",
    "ax.set_title('Scatter plot for 1st and 3rd rows')\n",
    "plt.show()\n",
    "corr_1_3 = np.corrcoef(multi[0, :], multi[2, :])\n",
    "print(f'Коефіцієнти кореляції\\n{corr_1_3}')\n",
    "\n",
    "fig, ax = plt.subplots()\n",
    "ax.scatter(multi[0, :], multi[3, :])\n",
    "ax.set_title('Scatter plot for 1st and 4th rows')\n",
    "plt.show()\n",
    "corr_1_4 = np.corrcoef(multi[0, :], multi[3, :])\n",
    "print(f'Коефіцієнти кореляції\\n{corr_1_4}')"
   ]
  },
  {
   "cell_type": "code",
   "execution_count": 6,
   "metadata": {},
   "outputs": [
    {
     "name": "stdout",
     "output_type": "stream",
     "text": [
      "Ранг матриці: 3\n",
      "\n",
      "Визначник матриці: 440.0\n",
      "\n",
      "Власні значення матриці\n",
      "[-14.30540864  -4.34740072  23.65280936]\n",
      "\n",
      "Власні вектори матриці\n",
      "[[ 0.15315575  0.88160309  0.44645191]\n",
      " [ 0.63674998 -0.43353159  0.6376518 ]\n",
      " [-0.75570681 -0.18661821  0.62775861]]\n"
     ]
    }
   ],
   "source": [
    "a = np.array([[1, 4, 5], [7, 3, 2], [9, 16, 1]])\n",
    "print(f'Ранг матриці: {np.linalg.matrix_rank(a)}\\n')\n",
    "print(f'Визначник матриці: {round(np.linalg.det(a), 2)}\\n')\n",
    "print(f'Власні значення матриці\\n{np.linalg.eigh(a)[0]}\\n\\nВласні вектори матриці\\n{np.linalg.eigh(a)[1]}')"
   ]
  },
  {
   "cell_type": "code",
   "execution_count": 7,
   "metadata": {},
   "outputs": [
    {
     "name": "stdout",
     "output_type": "stream",
     "text": [
      "Числа [9, 11, 17] повторюються в масиві найчастіше, а саме по 4 разів кожне.\n",
      "\n",
      "Парні числа з масиву, що діляться на 5: [ 0 10 20]\n"
     ]
    }
   ],
   "source": [
    "from collections import Counter\n",
    "\n",
    "np.random.seed(1)\n",
    "a = np.random.randint(0,21,50)\n",
    "counts = np.unique(a, return_counts=True)\n",
    "numbers = counts[0]\n",
    "frequency = counts[1]\n",
    "res = dict(zip(numbers, frequency))\n",
    "\n",
    "most_often = []\n",
    "for k, v in res.items():\n",
    "    if v == max(res.values()):\n",
    "        most_often.append(k)\n",
    "print(f'Числа {most_often} повторюються в масиві найчастіше, а саме по {max(res.values())} разів кожне.\\n')\n",
    "\n",
    "number_2_5 = [] \n",
    "for i in a:\n",
    "    if i % 2 == 0 and i % 5 == 0:\n",
    "        number_2_5.append(i)\n",
    "print(f'Парні числа з масиву, що діляться на 5: {np.unique(number_2_5)}')"
   ]
  },
  {
   "cell_type": "code",
   "execution_count": 8,
   "metadata": {},
   "outputs": [
    {
     "name": "stdout",
     "output_type": "stream",
     "text": [
      "х = 1.0\n",
      "у = -0.2\n"
     ]
    }
   ],
   "source": [
    "#система рівнянь\n",
    "\n",
    "left_part = np.array([[2., 5.], [1., -10.]])\n",
    "right_part = np.array([1., 3.])\n",
    "solution = np.linalg.solve(left_part, right_part)\n",
    "print(f'х = {solution[0]}\\nу = {solution[1]}')"
   ]
  },
  {
   "cell_type": "code",
   "execution_count": null,
   "metadata": {},
   "outputs": [],
   "source": []
  }
 ],
 "metadata": {
  "kernelspec": {
   "display_name": "Python 3 (ipykernel)",
   "language": "python",
   "name": "python3"
  },
  "language_info": {
   "codemirror_mode": {
    "name": "ipython",
    "version": 3
   },
   "file_extension": ".py",
   "mimetype": "text/x-python",
   "name": "python",
   "nbconvert_exporter": "python",
   "pygments_lexer": "ipython3",
   "version": "3.8.5"
  }
 },
 "nbformat": 4,
 "nbformat_minor": 4
}
