{
 "cells": [
  {
   "cell_type": "markdown",
   "metadata": {},
   "source": [
    " ## Task\n",
    " \n",
    "### Проаналізувати всі товари на сайті:  \n",
    "    https://smallpacking.agrosem.ua/shop/"
   ]
  },
  {
   "cell_type": "code",
   "execution_count": 1,
   "metadata": {},
   "outputs": [
    {
     "name": "stdout",
     "output_type": "stream",
     "text": [
      "The database has been successfully created and filled with data\n"
     ]
    }
   ],
   "source": [
    "import requests\n",
    "from bs4 import BeautifulSoup\n",
    "import sqlite3\n",
    "\n",
    "agrosem_link = \"https://smallpacking.agrosem.ua/shop/\"\n",
    "\n",
    "def is_num(text):\n",
    "    try:\n",
    "        int(text)\n",
    "        return True\n",
    "    except ValueError:\n",
    "        return False\n",
    "    \n",
    "def basic_request(url):\n",
    "    response = requests.get(url)\n",
    "    soup_result = BeautifulSoup(response.text, 'lxml')\n",
    "    return soup_result\n",
    "\n",
    "\n",
    "def get_next_page(current_page_link):\n",
    "    soup = basic_request(current_page_link)\n",
    "    page_numbers = soup.find('ul', class_='page-numbers')\n",
    "    current_page = int(page_numbers.find('span', class_='page-numbers current').text)\n",
    "    for page in page_numbers.find_all('a', class_='page-numbers'):\n",
    "        if is_num(page.text):\n",
    "            if int(page.text) == current_page + 1:\n",
    "                next_page_link = page.get('href').strip('/')\n",
    "                return next_page_link\n",
    "    return None\n",
    "\n",
    "\n",
    "def get_pages():\n",
    "    pages_list = []\n",
    "    current_page = agrosem_link\n",
    "    while current_page is not None:\n",
    "        pages_list.append(current_page)\n",
    "        current_page = get_next_page(current_page)\n",
    "    return pages_list\n",
    "\n",
    "\n",
    "def parse_product(product_link):\n",
    "    soup = basic_request(product_link)\n",
    "    attributes_description = soup.find('div', class_='atributes-description')\n",
    "    name = attributes_description.h2.text\n",
    "    # print(name)\n",
    "    box_type = attributes_description.find('span', class_='type-packaging-name').text\n",
    "    # print(box_type)\n",
    "    sku = attributes_description.find('span', class_='sku').text[5:]\n",
    "    # print(sku)\n",
    "    price = attributes_description.find('span', class_='regular-price').text.replace(' ', '')[:-3]\n",
    "    # print(price, '\\n------------------')\n",
    "    return sku, name, box_type, price\n",
    "\n",
    "\n",
    "def get_products_list():\n",
    "    pages_list = get_pages()\n",
    "    products_list = []\n",
    "    for page in pages_list:\n",
    "        soup = basic_request(page)\n",
    "        products = soup.find('div', class_='product-category-wrapper')\n",
    "\n",
    "        for product in products.find_all('div', class_='product-from-category-container'):\n",
    "            description = product.a.get('href').strip('/')\n",
    "            product_info = parse_product(description)\n",
    "            products_list.append(product_info)\n",
    "    return products_list\n",
    "\n",
    "\n",
    "def sqlite_rec(res):\n",
    "    crsr.executemany(\"INSERT OR REPLACE INTO Agro VALUES(?, ?, ?, ?);\", res)\n",
    "    connection.commit()\n",
    "    \n",
    "connection = sqlite3.connect(\"Agro.db\")\n",
    "\n",
    "crsr = connection.cursor()\n",
    "\n",
    "crsr.execute(\"\"\"CREATE TABLE IF NOT EXISTS Agro(\n",
    "sku INT PRIMARY KEY,\n",
    "product TEXT,\n",
    "package TEXT,\n",
    "price REAL);\"\"\")\n",
    "connection.commit()\n",
    "result = get_products_list()\n",
    "sqlite_rec(result)\n",
    "\n",
    "\n",
    "connection.close()\n",
    " \n",
    "print('The database has been successfully created and filled with data')"
   ]
  },
  {
   "cell_type": "markdown",
   "metadata": {},
   "source": [
    "### Summary"
   ]
  },
  {
   "cell_type": "code",
   "execution_count": 1,
   "metadata": {},
   "outputs": [
    {
     "name": "stdout",
     "output_type": "stream",
     "text": [
      "Всьго на сайті https://smallpacking.agrosem.ua/shop/ представлено: 119 товарів\n",
      "\n",
      "Середня ціна за товар 6535 грн\n",
      "Максимальна ціна за товар 56000 грн\n",
      "Мінімальна ціна за товар 125 грн\n",
      "\n",
      "Перші 5 рядків створеної бази данних:\n",
      "(28164, 'Ferticare Hydro 6-14-30 + micro', 'Коробка', 1900.0)\n",
      "(66353, 'Ferticare Kombi 14-11-25 + micro', 'Коробка', 1700.0)\n",
      "(39566, 'MagPlon K (нітрат калію)', 'Коробка', 1200.0)\n",
      "(69156, 'Pulan 34.4', 'Коробка', 7500.0)\n",
      "(74266, 'Saletrosan®26', 'Коробка', 4400.0)\n"
     ]
    }
   ],
   "source": [
    "import sqlite3\n",
    "connection = sqlite3.connect(\"Agro.db\")\n",
    "crsr = connection.cursor()\n",
    "\n",
    "crsr.execute(\"SELECT * FROM Agro;\")\n",
    "records = crsr.fetchall()\n",
    "print(\"Всьго на сайті https://smallpacking.agrosem.ua/shop/ представлено:\", len(records), 'товарів')\n",
    "\n",
    "list_prices = []\n",
    "for record in records:\n",
    "    list_prices.append(record[3])\n",
    "    average = round(sum(list_prices)/len(list_prices))\n",
    "    maximum = round(max(list_prices))\n",
    "    minimum = round(min(list_prices))\n",
    "\n",
    "print(f'\\nСередня ціна за товар {average} грн\\nМаксимальна ціна за товар {maximum} грн\\nМінімальна ціна за товар {minimum} грн')\n",
    "    \n",
    "crsr.execute(\"SELECT * FROM Agro;\")\n",
    "first_5 = crsr.fetchmany(5)\n",
    "print(f'\\nПерші 5 рядків створеної бази данних:')\n",
    "for record in first_5:\n",
    "    print(f'{record}')\n",
    "\n",
    "\n",
    "connection.close()"
   ]
  },
  {
   "cell_type": "code",
   "execution_count": null,
   "metadata": {},
   "outputs": [],
   "source": []
  }
 ],
 "metadata": {
  "kernelspec": {
   "display_name": "Python 3 (ipykernel)",
   "language": "python",
   "name": "python3"
  },
  "language_info": {
   "codemirror_mode": {
    "name": "ipython",
    "version": 3
   },
   "file_extension": ".py",
   "mimetype": "text/x-python",
   "name": "python",
   "nbconvert_exporter": "python",
   "pygments_lexer": "ipython3",
   "version": "3.8.5"
  }
 },
 "nbformat": 4,
 "nbformat_minor": 4
}
