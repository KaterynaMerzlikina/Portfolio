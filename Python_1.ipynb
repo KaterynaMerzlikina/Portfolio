{
 "cells": [
  {
   "cell_type": "markdown",
   "metadata": {},
   "source": [
    "### **Task 1**  \n",
    "Обчислити площу трикутника (area), якщо відома сторона (а, side) та проведена висота до неї (h, height)"
   ]
  },
  {
   "cell_type": "code",
   "execution_count": 1,
   "metadata": {},
   "outputs": [
    {
     "name": "stdout",
     "output_type": "stream",
     "text": [
      "side, cm =\t45\n",
      "height, cm =\t14\n",
      "\n",
      "Area of a triangle is 315.0 cm\n"
     ]
    },
    {
     "data": {
      "text/plain": [
       "315.0"
      ]
     },
     "execution_count": 1,
     "metadata": {},
     "output_type": "execute_result"
    }
   ],
   "source": [
    "def triangle_area():\n",
    "    while True:\n",
    "        try:\n",
    "            side = float(input(f'side, cm =\\t'))\n",
    "            height = float(input(f'height, cm =\\t'))\n",
    "            break\n",
    "        except ValueError:\n",
    "            print('Please, enter a number')\n",
    "    \n",
    "    area = round((0.5 * side * height), 2)\n",
    "    print(f'\\nArea of a triangle is {area} cm')\n",
    "    return area\n",
    "\n",
    "triangle_area()"
   ]
  },
  {
   "cell_type": "markdown",
   "metadata": {},
   "source": [
    "### **Task 2**  \n",
    "Дано трицифрове число. Виведіть окремо кожну цифру числа та суми цифр числа  \n",
    "Реалізуйте завдання двома способами (використовуючи стрічки та оператори `%`, `//`)\n"
   ]
  },
  {
   "cell_type": "code",
   "execution_count": 2,
   "metadata": {},
   "outputs": [
    {
     "name": "stdout",
     "output_type": "stream",
     "text": [
      "three-digit number:\t458\n",
      "4\n",
      "5\n",
      "8\n",
      "\n",
      "17\n"
     ]
    }
   ],
   "source": [
    "#version 1\n",
    "number = input(f'three-digit number:\\t')\n",
    "for x in number:\n",
    "    print(x)\n",
    "    \n",
    "number = int(number)\n",
    "a = number % 10\n",
    "number = number // 10\n",
    "b = number % 10\n",
    "number = number // 10\n",
    "sum = number + a + b\n",
    "print(f'\\n{sum}')"
   ]
  },
  {
   "cell_type": "code",
   "execution_count": 3,
   "metadata": {},
   "outputs": [
    {
     "name": "stdout",
     "output_type": "stream",
     "text": [
      "Three-digit number is 828\n",
      "8\n",
      "2\n",
      "8\n",
      "\n",
      "18\n"
     ]
    }
   ],
   "source": [
    "#version 2\n",
    "import random\n",
    "from random import randint\n",
    "number = randint(100, 1000)\n",
    "number = str(number)\n",
    "print(f'Three-digit number is {number}')\n",
    "for x in number:\n",
    "    print(x)\n",
    "a = int(number[0])\n",
    "b = int(number[1])\n",
    "c = int(number[2])\n",
    "sum = a + b + c\n",
    "print(f'\\n{sum}')"
   ]
  },
  {
   "cell_type": "markdown",
   "metadata": {},
   "source": [
    "### **Task 3**  \n",
    ">_'The seventeenth century knew Hamlet as an aberrant socialtype termed the “melancholy malcontent,”'_\n",
    "\n",
    "* Розбийте речення по словах і помістіть їх у список.  \n",
    "* Виведіть кількість слів у речені.  \n",
    "* Утворіть нове речення, що складається з першого та останнього слова із початкового речення.\n"
   ]
  },
  {
   "cell_type": "code",
   "execution_count": 1,
   "metadata": {},
   "outputs": [
    {
     "name": "stdout",
     "output_type": "stream",
     "text": [
      "['The', 'seventeenth', 'century', 'knew', 'Hamlet', 'as', 'an', 'aberrant', 'socialtype', 'termed', 'the', '\"melancholy', 'malcontent\"']\n",
      "13\n",
      "The malcontent\"\n"
     ]
    }
   ],
   "source": [
    "sentence = 'The seventeenth century knew Hamlet as an aberrant socialtype termed the \"melancholy malcontent\"'\n",
    "splited_sentence = sentence.split()\n",
    "print(splited_sentence)\n",
    "print(len(splited_sentence))\n",
    "print(f'{splited_sentence[0]} {splited_sentence[-1]}')"
   ]
  },
  {
   "cell_type": "markdown",
   "metadata": {},
   "source": [
    "### **Task 4**  \n",
    "Перевірте, чи справджується формула: $$sin^2x + cos^2x = 1$$  \n",
    "Напишіть код, що реалізує цю формулу. Нагадую, що тригонометричні функції приймають аргументи в радіанній мірі"
   ]
  },
  {
   "cell_type": "code",
   "execution_count": 5,
   "metadata": {},
   "outputs": [
    {
     "name": "stdout",
     "output_type": "stream",
     "text": [
      "Welcome! This code will proof that \"sin^2x + cos^2x = 1\"\n",
      "\n",
      "Input any angle:\n",
      "45\n",
      "sin^2x = 0.5000000000000001 and cos^2x = 0.5000000000000001\n",
      "0.5000000000000001 + 0.5000000000000001 = 1.0000000000000002\n"
     ]
    },
    {
     "data": {
      "text/plain": [
       "1.0000000000000002"
      ]
     },
     "execution_count": 5,
     "metadata": {},
     "output_type": "execute_result"
    }
   ],
   "source": [
    "import math as m\n",
    "\n",
    "def proof():\n",
    "    print('Welcome! This code will proof that \\\"sin^2x + cos^2x = 1\\\"\\n')\n",
    "    angle = float(input('Input any angle:\\n'))\n",
    "    angle_radians = m.radians(angle)\n",
    "    sin_2_x = m.sin(angle_radians)**2\n",
    "    cos_2_x = m.cos(angle_radians)**2\n",
    "    result = sin_2_x + cos_2_x\n",
    "    print(f'sin^2x = {sin_2_x} and cos^2x = {cos_2_x}\\n{sin_2_x} + {cos_2_x} = {result}')\n",
    "    return result\n",
    "\n",
    "proof()"
   ]
  },
  {
   "cell_type": "markdown",
   "metadata": {},
   "source": [
    "### **Task 5**  \n",
    "#### Напишіть програму для обчислення коренів квадратного рівняння \n",
    "* Нагадую, що `n`-го степеня має `n` коренів. (Корені можуть бути комплексні)  \n",
    "* Уравнение вида ax2 + bx + c = 0, где a, b, c - действительные числа, причем a ≠ 0, называют квадратным уравнением.\n"
   ]
  },
  {
   "cell_type": "code",
   "execution_count": 6,
   "metadata": {},
   "outputs": [
    {
     "name": "stdout",
     "output_type": "stream",
     "text": [
      "The first coefficient must not be zero! First coefficient:\t45\n",
      "Second coefficient:\t78\n",
      "Free term:\t5\n",
      "\n",
      "Your equation is:\n",
      "\t45.0x^2 + (78.0)x + (5.0) = 0\n",
      "\n",
      "Discriminant = 5184.0\n",
      "x1 = -135.0\n",
      "x2 = -3375.0\n"
     ]
    }
   ],
   "source": [
    "import math\n",
    "import cmath\n",
    "\n",
    "class ZeroError(Exception):\n",
    "    pass\n",
    "\n",
    "def user_input():\n",
    "    while True:\n",
    "        try:\n",
    "            a = float(input('The first coefficient must not be zero! First coefficient:\\t'))\n",
    "            if a == 0:\n",
    "                raise ZeroError\n",
    "            b = float(input('Second coefficient:\\t'))\n",
    "            c = float(input('Free term:\\t'))\n",
    "            break\n",
    "        except ZeroError:\n",
    "            print('The first coefficient must not be zero! Try again')\n",
    "        except ValueError:\n",
    "            print('Please, enter a number')\n",
    "         \n",
    "    return a, b, c\n",
    "\n",
    "def calc_discriminant(a, b, c):\n",
    "    \"\"\"Сalculating the discriminant\"\"\"\n",
    "    d = b**2 - 4 * a * c\n",
    "    return round(d, 2)\n",
    "\n",
    "def calc_x1_x2(discriminant):\n",
    "    \n",
    "    if discriminant > 0:\n",
    "        x1 = round(((-b + math.sqrt(discriminant)) / 2*a), 2)\n",
    "        x2 = round(((-b - math.sqrt(discriminant)) / 2*a), 2)\n",
    "    \n",
    "    elif discriminant == 0:\n",
    "        x1 = round(((-b) / 2*a), 2)\n",
    "        x2 = x1\n",
    "\n",
    "    else:\n",
    "        x1 = (-b + cmath.sqrt(discriminant)) / 2*a\n",
    "        x2 = (-b - cmath.sqrt(discriminant)) / 2*a\n",
    "        \n",
    "    return x1, x2\n",
    "\n",
    "a, b, c = user_input()\n",
    "print(f'\\nYour equation is:\\n\\t{a}x^2 + ({b})x + ({c}) = 0')\n",
    "discriminant = calc_discriminant(a, b, c)\n",
    "print(f'\\nDiscriminant = {discriminant}')\n",
    "x1_x2 = calc_x1_x2(discriminant)\n",
    "print(f'x1 = {x1_x2[0]}\\nx2 = {x1_x2[1]}')"
   ]
  },
  {
   "cell_type": "markdown",
   "metadata": {},
   "source": [
    "### **Task 6**\n",
    "#### Напишіть програму, що виводить речення: \n",
    "> _\"Діаметр планети `Planet` дорівнює` Diament`\"_ \n",
    "\n",
    "де `Planet` та `Diament` вводить користувач\n"
   ]
  },
  {
   "cell_type": "code",
   "execution_count": 7,
   "metadata": {},
   "outputs": [
    {
     "name": "stdout",
     "output_type": "stream",
     "text": [
      "Planet name is:\tMoon458\n",
      "Diametr of your planet is:\t458\n",
      "Diametr of Moon458 planet is 458.0 km\n"
     ]
    }
   ],
   "source": [
    "planet_name = input('Planet name is:\\t')\n",
    "while True:\n",
    "    try:\n",
    "        diametr = float(input('Diametr of your planet is:\\t'))\n",
    "        break\n",
    "    except ValueError:\n",
    "        print('Please, enter a number')\n",
    "print(f'Diametr of {planet_name.title()} planet is {diametr} km')"
   ]
  },
  {
   "cell_type": "code",
   "execution_count": null,
   "metadata": {},
   "outputs": [],
   "source": []
  }
 ],
 "metadata": {
  "kernelspec": {
   "display_name": "Python 3 (ipykernel)",
   "language": "python",
   "name": "python3"
  },
  "language_info": {
   "codemirror_mode": {
    "name": "ipython",
    "version": 3
   },
   "file_extension": ".py",
   "mimetype": "text/x-python",
   "name": "python",
   "nbconvert_exporter": "python",
   "pygments_lexer": "ipython3",
   "version": "3.8.5"
  }
 },
 "nbformat": 4,
 "nbformat_minor": 4
}
